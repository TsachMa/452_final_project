{
 "cells": [
  {
   "cell_type": "code",
   "execution_count": 2,
   "metadata": {},
   "outputs": [],
   "source": [
    "import pandas as pd\n",
    "import numpy as np\n",
    "import torch\n",
    "import torch.nn as nn\n",
    "import torch.optim as optim\n",
    "import ast\n",
    "\n",
    "from pymatgen.io.cif import CifParser\n",
    "from pymatgen.analysis.graphs import StructureGraph\n",
    "from pymatgen.analysis.local_env import CrystalNN\n",
    "\n",
    "from io import StringIO\n",
    "import multiprocessing\n",
    "from tqdm import tqdm\n",
    "\n",
    "import matplotlib.pyplot as plt"
   ]
  },
  {
   "cell_type": "code",
   "execution_count": 3,
   "metadata": {},
   "outputs": [],
   "source": [
    "#load in train.pt\n",
    "train_graphs = torch.load('data/train.pt')"
   ]
  },
  {
   "cell_type": "code",
   "execution_count": 4,
   "metadata": {},
   "outputs": [],
   "source": [
    "all_graph_keys = list(train_graphs.keys())"
   ]
  },
  {
   "cell_type": "code",
   "execution_count": 5,
   "metadata": {},
   "outputs": [],
   "source": [
    "import numpy as np\n",
    "\n",
    "MAX_ATOM = 80 \n",
    "\n",
    "def connectivity_pairs(train_graphs):\n",
    "    all_bonded_atoms = []\n",
    "    for index in tqdm(range(len(train_graphs))):\n",
    "        key = all_graph_keys[index]\n",
    "        # Extracting edge and node information from the graph object\n",
    "        node_positions, atomic_numbers, lengths, angles, edges, indices, index = train_graphs[key]\n",
    "\n",
    "        # Creating a dictionary to map node indices to atomic numbers\n",
    "        node_atomic_numbers = {idx: atomic_number for idx, atomic_number in enumerate(atomic_numbers)}\n",
    "\n",
    "        # Extracting atomic numbers bonded together from the edge information\n",
    "        bonded_atomic_numbers = []\n",
    "        for edge in edges:\n",
    "            node_idx1, node_idx2 = edge\n",
    "            atomic_number1 = node_atomic_numbers[node_idx1]\n",
    "            atomic_number2 = node_atomic_numbers[node_idx2]\n",
    "            bonded_atomic_numbers.append((atomic_number1, atomic_number2))\n",
    "\n",
    "        bonded_atoms = []\n",
    "        for bonded_pair in bonded_atomic_numbers:\n",
    "            if list(bonded_pair) not in bonded_atoms and [bonded_pair[1], bonded_pair[0]]  not in bonded_atoms and (bonded_pair[1] < MAX_ATOM and bonded_pair[0] < MAX_ATOM): \n",
    "                bonded_atoms.append(list(bonded_pair))\n",
    "\n",
    "        all_bonded_atoms.append(bonded_atoms)\n",
    "    \n",
    "    #flatten all_bonded_atoms \n",
    "    all_bonded_atoms_flat = []\n",
    "    for sublist in all_bonded_atoms:\n",
    "        all_bonded_atoms_flat += sublist\n",
    "    return all_bonded_atoms_flat"
   ]
  },
  {
   "cell_type": "code",
   "execution_count": 6,
   "metadata": {},
   "outputs": [
    {
     "name": "stderr",
     "output_type": "stream",
     "text": [
      "  0%|          | 0/36183 [00:00<?, ?it/s]"
     ]
    },
    {
     "name": "stderr",
     "output_type": "stream",
     "text": [
      "100%|██████████| 36183/36183 [00:03<00:00, 10406.72it/s]\n"
     ]
    }
   ],
   "source": [
    "list_of_pairs = connectivity_pairs(train_graphs)\n",
    "training_data = np.stack([np.array(x) for x in list_of_pairs])\n",
    "training_data_onehot = torch.nn.functional.one_hot(torch.tensor(training_data), num_classes=MAX_ATOM)"
   ]
  },
  {
   "cell_type": "code",
   "execution_count": 6,
   "metadata": {},
   "outputs": [
    {
     "ename": "NameError",
     "evalue": "name 'training_data_onehot' is not defined",
     "output_type": "error",
     "traceback": [
      "\u001b[0;31m---------------------------------------------------------------------------\u001b[0m",
      "\u001b[0;31mNameError\u001b[0m                                 Traceback (most recent call last)",
      "Cell \u001b[0;32mIn[6], line 18\u001b[0m\n\u001b[1;32m     15\u001b[0m         \u001b[38;5;28;01mreturn\u001b[39;00m input_data\u001b[38;5;241m.\u001b[39mfloat(), target_data\u001b[38;5;241m.\u001b[39mlong()\n\u001b[1;32m     17\u001b[0m \u001b[38;5;66;03m# Create dataset instance\u001b[39;00m\n\u001b[0;32m---> 18\u001b[0m word2vec_dataset \u001b[38;5;241m=\u001b[39m Word2VecDataset(\u001b[43mtraining_data_onehot\u001b[49m, torch\u001b[38;5;241m.\u001b[39mtensor(training_data))\n",
      "\u001b[0;31mNameError\u001b[0m: name 'training_data_onehot' is not defined"
     ]
    }
   ],
   "source": [
    "import torch\n",
    "from torch.utils.data import Dataset, DataLoader\n",
    "\n",
    "class Word2VecDataset(Dataset):\n",
    "    def __init__(self, onehot, original):\n",
    "        self.data_tensor = onehot\n",
    "        self.original = original\n",
    "\n",
    "    def __len__(self):\n",
    "        return len(self.data_tensor)\n",
    "\n",
    "    def __getitem__(self, idx):\n",
    "        input_data = self.data_tensor[idx, 0, :]  # input data\n",
    "        target_data = self.original[idx, 1]  # target data\n",
    "        return input_data.float(), target_data.long()\n",
    "\n",
    "# Create dataset instance\n",
    "word2vec_dataset = Word2VecDataset(training_data_onehot, torch.tensor(training_data))"
   ]
  },
  {
   "cell_type": "code",
   "execution_count": null,
   "metadata": {},
   "outputs": [],
   "source": [
    "# Create DataLoader\n",
    "batch_size = 32  # Adjust batch size as needed\n",
    "word2vec_dataloader = DataLoader(word2vec_dataset, batch_size=batch_size, shuffle=True, pin_memory=True)"
   ]
  },
  {
   "cell_type": "code",
   "execution_count": null,
   "metadata": {},
   "outputs": [],
   "source": [
    "class elem2vec(nn.Module):\n",
    "    def __init__(self, numelem, hidden_dim):\n",
    "        super(elem2vec, self).__init__()\n",
    "\n",
    "        self.model = nn.Sequential(\n",
    "            nn.Linear(numelem, hidden_dim, bias=False),\n",
    "            nn.Linear(hidden_dim, numelem, bias=False),\n",
    "        )\n",
    "\n",
    "    def forward(self, x):\n",
    "        return self.model(x)"
   ]
  },
  {
   "cell_type": "code",
   "execution_count": null,
   "metadata": {},
   "outputs": [],
   "source": [
    "numelem = MAX_ATOM  \n",
    "model = elem2vec(numelem, hidden_dim = 40)\n",
    "max_epochs = 20\n",
    "# Define optimizer and loss function\n",
    "weight_decay = 0  # Example value, adjust based on your needs\n",
    "optimizer = optim.Adam(model.parameters(), lr=0.02, weight_decay=weight_decay)\n",
    "criterion = nn.CrossEntropyLoss()"
   ]
  },
  {
   "cell_type": "code",
   "execution_count": null,
   "metadata": {},
   "outputs": [],
   "source": [
    "model = model.to('cuda')"
   ]
  },
  {
   "cell_type": "code",
   "execution_count": null,
   "metadata": {},
   "outputs": [
    {
     "name": "stderr",
     "output_type": "stream",
     "text": [
      "  5%|▌         | 1/20 [00:05<01:42,  5.38s/it]"
     ]
    },
    {
     "name": "stdout",
     "output_type": "stream",
     "text": [
      "Epoch 1/20 - Loss: 10510.6074 - Accuracy: 21.86%\n"
     ]
    },
    {
     "name": "stderr",
     "output_type": "stream",
     "text": [
      " 10%|█         | 2/20 [00:08<01:11,  3.95s/it]"
     ]
    },
    {
     "name": "stdout",
     "output_type": "stream",
     "text": [
      "Epoch 2/20 - Loss: 10384.4969 - Accuracy: 22.35%\n"
     ]
    },
    {
     "name": "stderr",
     "output_type": "stream",
     "text": [
      " 15%|█▌        | 3/20 [00:11<00:59,  3.52s/it]"
     ]
    },
    {
     "name": "stdout",
     "output_type": "stream",
     "text": [
      "Epoch 3/20 - Loss: 10359.2273 - Accuracy: 22.25%\n"
     ]
    },
    {
     "name": "stderr",
     "output_type": "stream",
     "text": [
      " 20%|██        | 4/20 [00:14<00:52,  3.27s/it]"
     ]
    },
    {
     "name": "stdout",
     "output_type": "stream",
     "text": [
      "Epoch 4/20 - Loss: 10348.9039 - Accuracy: 22.39%\n"
     ]
    },
    {
     "name": "stderr",
     "output_type": "stream",
     "text": [
      " 25%|██▌       | 5/20 [00:17<00:47,  3.14s/it]"
     ]
    },
    {
     "name": "stdout",
     "output_type": "stream",
     "text": [
      "Epoch 5/20 - Loss: 10337.3852 - Accuracy: 22.42%\n"
     ]
    },
    {
     "name": "stderr",
     "output_type": "stream",
     "text": [
      " 30%|███       | 6/20 [00:20<00:42,  3.05s/it]"
     ]
    },
    {
     "name": "stdout",
     "output_type": "stream",
     "text": [
      "Epoch 6/20 - Loss: 10341.4231 - Accuracy: 22.35%\n"
     ]
    },
    {
     "name": "stderr",
     "output_type": "stream",
     "text": [
      " 35%|███▌      | 7/20 [00:22<00:38,  3.00s/it]"
     ]
    },
    {
     "name": "stdout",
     "output_type": "stream",
     "text": [
      "Epoch 7/20 - Loss: 10329.9843 - Accuracy: 22.36%\n"
     ]
    },
    {
     "name": "stderr",
     "output_type": "stream",
     "text": [
      " 40%|████      | 8/20 [00:25<00:35,  2.96s/it]"
     ]
    },
    {
     "name": "stdout",
     "output_type": "stream",
     "text": [
      "Epoch 8/20 - Loss: 10328.6468 - Accuracy: 22.47%\n"
     ]
    },
    {
     "name": "stderr",
     "output_type": "stream",
     "text": [
      " 45%|████▌     | 9/20 [00:28<00:32,  2.94s/it]"
     ]
    },
    {
     "name": "stdout",
     "output_type": "stream",
     "text": [
      "Epoch 9/20 - Loss: 10325.6608 - Accuracy: 22.40%\n"
     ]
    },
    {
     "name": "stderr",
     "output_type": "stream",
     "text": [
      " 50%|█████     | 10/20 [00:31<00:29,  2.92s/it]"
     ]
    },
    {
     "name": "stdout",
     "output_type": "stream",
     "text": [
      "Epoch 10/20 - Loss: 10326.7691 - Accuracy: 22.38%\n"
     ]
    },
    {
     "name": "stderr",
     "output_type": "stream",
     "text": [
      " 55%|█████▌    | 11/20 [00:34<00:26,  2.91s/it]"
     ]
    },
    {
     "name": "stdout",
     "output_type": "stream",
     "text": [
      "Epoch 11/20 - Loss: 10321.8553 - Accuracy: 22.53%\n"
     ]
    },
    {
     "name": "stderr",
     "output_type": "stream",
     "text": [
      " 60%|██████    | 12/20 [00:37<00:23,  2.90s/it]"
     ]
    },
    {
     "name": "stdout",
     "output_type": "stream",
     "text": [
      "Epoch 12/20 - Loss: 10322.3244 - Accuracy: 22.49%\n"
     ]
    },
    {
     "name": "stderr",
     "output_type": "stream",
     "text": [
      " 65%|██████▌   | 13/20 [00:40<00:20,  2.90s/it]"
     ]
    },
    {
     "name": "stdout",
     "output_type": "stream",
     "text": [
      "Epoch 13/20 - Loss: 10319.7609 - Accuracy: 22.50%\n"
     ]
    },
    {
     "name": "stderr",
     "output_type": "stream",
     "text": [
      " 70%|███████   | 14/20 [00:43<00:17,  2.89s/it]"
     ]
    },
    {
     "name": "stdout",
     "output_type": "stream",
     "text": [
      "Epoch 14/20 - Loss: 10318.0427 - Accuracy: 22.47%\n"
     ]
    },
    {
     "name": "stderr",
     "output_type": "stream",
     "text": [
      " 75%|███████▌  | 15/20 [00:45<00:14,  2.89s/it]"
     ]
    },
    {
     "name": "stdout",
     "output_type": "stream",
     "text": [
      "Epoch 15/20 - Loss: 10328.0656 - Accuracy: 22.49%\n"
     ]
    },
    {
     "name": "stderr",
     "output_type": "stream",
     "text": [
      " 80%|████████  | 16/20 [00:48<00:11,  2.88s/it]"
     ]
    },
    {
     "name": "stdout",
     "output_type": "stream",
     "text": [
      "Epoch 16/20 - Loss: 10324.9368 - Accuracy: 22.53%\n"
     ]
    },
    {
     "name": "stderr",
     "output_type": "stream",
     "text": [
      " 85%|████████▌ | 17/20 [00:51<00:08,  2.89s/it]"
     ]
    },
    {
     "name": "stdout",
     "output_type": "stream",
     "text": [
      "Epoch 17/20 - Loss: 10324.1949 - Accuracy: 22.49%\n"
     ]
    },
    {
     "name": "stderr",
     "output_type": "stream",
     "text": [
      " 90%|█████████ | 18/20 [00:54<00:05,  2.89s/it]"
     ]
    },
    {
     "name": "stdout",
     "output_type": "stream",
     "text": [
      "Epoch 18/20 - Loss: 10321.5227 - Accuracy: 22.62%\n"
     ]
    },
    {
     "name": "stderr",
     "output_type": "stream",
     "text": [
      " 95%|█████████▌| 19/20 [00:57<00:02,  2.89s/it]"
     ]
    },
    {
     "name": "stdout",
     "output_type": "stream",
     "text": [
      "Epoch 19/20 - Loss: 10314.9810 - Accuracy: 22.61%\n"
     ]
    },
    {
     "name": "stderr",
     "output_type": "stream",
     "text": [
      "100%|██████████| 20/20 [01:00<00:00,  3.02s/it]"
     ]
    },
    {
     "name": "stdout",
     "output_type": "stream",
     "text": [
      "Epoch 20/20 - Loss: 10322.1472 - Accuracy: 22.50%\n"
     ]
    },
    {
     "name": "stderr",
     "output_type": "stream",
     "text": [
      "\n"
     ]
    }
   ],
   "source": [
    "for epoch in tqdm(range(max_epochs)):\n",
    "    model.train()  # Set the model to training mode\n",
    "\n",
    "    total_train_loss = 0\n",
    "    correct_train = 0\n",
    "    total_train = 0\n",
    "\n",
    "    for center, context in word2vec_dataloader:\n",
    "        center = center.to('cuda')\n",
    "        context = context.to('cuda')\n",
    "        optimizer.zero_grad()\n",
    "\n",
    "        pred = model(center)\n",
    "        loss = criterion(pred, context)\n",
    "        loss.backward()\n",
    "        optimizer.step()\n",
    "\n",
    "        total_train_loss += loss.item()\n",
    "\n",
    "        _, predicted = torch.max(pred.data, 1)\n",
    "        total_train += context.size(0)\n",
    "        correct_train += (predicted == context).sum().item()\n",
    "\n",
    "    train_accuracy = 100 * correct_train / total_train\n",
    "    if (epoch + 1) % 1 == 0:\n",
    "        print(f\"Epoch {epoch+1}/{max_epochs} - Loss: {total_train_loss:.4f} - Accuracy: {train_accuracy:.2f}%\")"
   ]
  },
  {
   "cell_type": "code",
   "execution_count": 25,
   "metadata": {},
   "outputs": [
    {
     "name": "stdout",
     "output_type": "stream",
     "text": [
      "torch.Size([40, 80])\n",
      "torch.Size([80, 40])\n"
     ]
    },
    {
     "ename": "",
     "evalue": "",
     "output_type": "error",
     "traceback": [
      "\u001b[1;31mThe Kernel crashed while executing code in the current cell or a previous cell. \n",
      "\u001b[1;31mPlease review the code in the cell(s) to identify a possible cause of the failure. \n",
      "\u001b[1;31mClick <a href='https://aka.ms/vscodeJupyterKernelCrash'>here</a> for more info. \n",
      "\u001b[1;31mView Jupyter <a href='command:jupyter.viewOutput'>log</a> for further details."
     ]
    }
   ],
   "source": [
    "params_list = []\n",
    "indx = 0\n",
    "for param in model.parameters():\n",
    "    params_list.append(param)\n",
    "    torch.save(param, f\"param_{indx}.pt\")\n",
    "    print(param.size())\n",
    "    indx += 1"
   ]
  },
  {
   "cell_type": "code",
   "execution_count": 7,
   "metadata": {},
   "outputs": [
    {
     "name": "stdout",
     "output_type": "stream",
     "text": [
      "torch.Size([40, 80])\n",
      "torch.Size([80, 40])\n"
     ]
    }
   ],
   "source": [
    "#load in the parameters\n",
    "params_list = []\n",
    "indx = 0\n",
    "for indx in range(2):\n",
    "    param = torch.load(f\"param_{indx}.pt\", map_location=torch.device('cpu'))\n",
    "    params_list.append(param)\n",
    "    print(param.size())\n",
    "    indx += 1\n",
    "\n",
    "elem2vec = params_list[1]"
   ]
  },
  {
   "cell_type": "code",
   "execution_count": 8,
   "metadata": {},
   "outputs": [],
   "source": [
    "from pymatgen.core.periodic_table import Element\n",
    "\n",
    "# List of atomic numbers\n",
    "atomic_numbers = list(range(1, MAX_ATOM))\n",
    "\n",
    "# Dictionary to store atomic radii\n",
    "atomic_radii = []\n",
    "\n",
    "# Iterate over the atomic numbers and retrieve atomic radii\n",
    "for atomic_number in atomic_numbers:\n",
    "    element = Element.from_Z(atomic_number)\n",
    "    atomic_radius = element.atomic_radius\n",
    "    atomic_radii.append(atomic_radius)\n",
    "\n",
    "#replace None entries with 0 \n",
    "atomic_radii = [elem if elem != None else 0 for elem in atomic_radii ]\n",
    "\n",
    "atomic_radii = np.array(atomic_radii)\n",
    "\n",
    "from pymatgen.core.periodic_table import Element\n",
    "\n",
    "# Get a list of all element symbols\n",
    "element_symbols = [elem.symbol for elem in Element]"
   ]
  },
  {
   "cell_type": "code",
   "execution_count": 11,
   "metadata": {},
   "outputs": [],
   "source": [
    "#get the embedding for sodium \n",
    "atomic_number = 27\n",
    "index = atomic_number - 1\n",
    "sodium = params_list[1][index]\n",
    "\n",
    "#find the closest element to sodium by cosine similarity\n",
    "import torch.nn.functional as F\n",
    "cosine_sim = torch.exp(F.cosine_similarity(sodium.unsqueeze(0), params_list[1], dim=1)) / max(torch.exp(F.cosine_similarity(sodium.unsqueeze(0), params_list[1], dim=1)))"
   ]
  },
  {
   "cell_type": "code",
   "execution_count": 12,
   "metadata": {},
   "outputs": [
    {
     "name": "stdout",
     "output_type": "stream",
     "text": [
      "      Values Elements\n",
      "26  1.000000       Co\n",
      "27  0.637838       Ni\n",
      "23  0.611752       Cr\n",
      "24  0.591928       Mn\n",
      "73  0.589748        W\n",
      "25  0.567367       Fe\n",
      "41  0.553889       Mo\n",
      "42  0.520777       Tc\n",
      "5   0.514877        C\n",
      "22  0.511896        V\n"
     ]
    }
   ],
   "source": [
    "# Convert tensor to list\n",
    "tensor_list = cosine_sim.tolist()\n",
    "# Convert list to DataFrame\n",
    "df = pd.DataFrame({'Values': tensor_list, 'Elements': element_symbols[0:MAX_ATOM]})\n",
    "# Sort DataFrame by 'Values' column from max to min\n",
    "df_sorted = df.sort_values(by='Values', ascending=False)\n",
    "\n",
    "print(df_sorted[0:10])"
   ]
  },
  {
   "cell_type": "code",
   "execution_count": null,
   "metadata": {},
   "outputs": [
    {
     "data": {
      "image/png": "[encoded data removed]",
      "text/plain": [
       "<Figure size 640x480 with 1 Axes>"
      ]
     },
     "metadata": {},
     "output_type": "display_data"
    }
   ],
   "source": [
    "\n",
    "# Plot the first curve\n",
    "plt.plot(cosine_sim.detach().cpu().numpy(), label='Cosine Sim')\n",
    "\n",
    "# Plot the second curve\n",
    "plt.plot(atomic_radii / max(atomic_radii), label='Atomic Radii')\n",
    "\n",
    "# Plot a red dot at x = 10\n",
    "plt.scatter(index, cosine_sim.detach().cpu().numpy()[index], color='red', label='Point at x=10')\n",
    "plt.scatter(index, (atomic_radii / max(atomic_radii))[index], color='red', label='Point at x=10')\n",
    "\n",
    "# Set labels and legend\n",
    "plt.xlabel('Index')\n",
    "plt.ylabel('Value')\n",
    "plt.legend()\n",
    "\n",
    "# Show the plot\n",
    "plt.show()\n"
   ]
  }
 ],
 "metadata": {
  "kernelspec": {
   "display_name": "Python 3 (ipykernel)",
   "language": "python",
   "name": "python3"
  },
  "language_info": {
   "codemirror_mode": {
    "name": "ipython",
    "version": 3
   },
   "file_extension": ".py",
   "mimetype": "text/x-python",
   "name": "python",
   "nbconvert_exporter": "python",
   "pygments_lexer": "ipython3",
   "version": "3.8.17"
  }
 },
 "nbformat": 4,
 "nbformat_minor": 4
}
