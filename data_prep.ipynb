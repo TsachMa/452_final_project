{
 "cells": [
  {
   "cell_type": "code",
   "execution_count": 1,
   "metadata": {},
   "outputs": [],
   "source": [
    "import pandas as pd \n",
    "import numpy as np \n",
    "import torch \n",
    "import ast\n",
    "import matplotlib.pyplot as plt"
   ]
  },
  {
   "cell_type": "code",
   "execution_count": null,
   "metadata": {},
   "outputs": [],
   "source": [
    "train_dict = torch.load(\"data/train_pv_xrd.pt\")\n",
    "val_dict = torch.load(\"data/val_pv_xrd.pt\")\n",
    "#test_dict = torch.load(\"test_pv_xrd.pt\")"
   ]
  },
  {
   "cell_type": "code",
   "execution_count": null,
   "metadata": {},
   "outputs": [],
   "source": [
    "train_df = pd.read_csv(\"data/train.csv\")\n",
    "val_df = pd.read_csv(\"data/val.csv\")\n",
    "#test_df = pd.read_csv(\"test.csv\")"
   ]
  },
  {
   "cell_type": "code",
   "execution_count": null,
   "metadata": {},
   "outputs": [],
   "source": [
    "\n",
    "def df_to_spacegroup_data(df): \n",
    "    spacegroup_number = np.array(df['spacegroup.number'])\n",
    "    spacegroup_number_one_hot_encoded = np.eye(230)[spacegroup_number]\n",
    "    \n",
    "    return torch.tensor(spacegroup_number_one_hot_encoded)"
   ]
  },
  {
   "cell_type": "code",
   "execution_count": null,
   "metadata": {},
   "outputs": [],
   "source": [
    "data_dict = {\n",
    "    'train': (train_dict, train_df),\n",
    "    'val': (val_dict, val_df), \n",
    "#    'test': (test_dict, test_df)\n",
    "}"
   ]
  },
  {
   "cell_type": "code",
   "execution_count": null,
   "metadata": {},
   "outputs": [],
   "source": [
    "def df_to_spacegroup_data(df): \n",
    "    spacegroup_number = np.array(df['spacegroup.number'])\n",
    "    spacegroup_number_one_hot_encoded = np.eye(230)[spacegroup_number]\n",
    "    \n",
    "    return torch.tensor(spacegroup_number_one_hot_encoded)"
   ]
  },
  {
   "cell_type": "code",
   "execution_count": null,
   "metadata": {},
   "outputs": [],
   "source": [
    "training_sgs = torch.tensor(train_df['spacegroup.number'], dtype=torch.long)\n",
    "val_sgs = torch.tensor(val_df['spacegroup.number'], dtype=torch.long)\n",
    "#test_sgs = df_to_spacegroup_data(test_df)"
   ]
  },
  {
   "cell_type": "code",
   "execution_count": null,
   "metadata": {},
   "outputs": [],
   "source": [
    "def convert_to_tensor(pseudo_voight_dict, df): \n",
    "    list_of_pseudo_voights = []\n",
    "    for key in df['material_id']:\n",
    "        key += \"_0\"\n",
    "        value = pseudo_voight_dict[key]\n",
    "        list_of_pseudo_voights.append(value)\n",
    "\n",
    "    tensor_of_pseudo_voights = torch.tensor(torch.stack(list_of_pseudo_voights))\n",
    "    return(tensor_of_pseudo_voights)"
   ]
  },
  {
   "cell_type": "code",
   "execution_count": null,
   "metadata": {},
   "outputs": [],
   "source": [
    "training_pvs = convert_to_tensor(train_dict, train_df)\n",
    "val_pvs = convert_to_tensor(val_dict, val_df)\n",
    "#test_pvs = convert_to_tensor(test_dict)"
   ]
  },
  {
   "cell_type": "code",
   "execution_count": null,
   "metadata": {},
   "outputs": [],
   "source": [
    "train_df['atomic_numbers'] = train_df['atomic_numbers'].apply(ast.literal_eval)\n",
    "val_df['atomic_numbers'] = val_df['atomic_numbers'].apply(ast.literal_eval)"
   ]
  },
  {
   "cell_type": "code",
   "execution_count": null,
   "metadata": {},
   "outputs": [],
   "source": [
    "from collections import Counter\n",
    "\n",
    "lst = [4, 4, 5, 6]\n",
    "count_dict = Counter(lst)"
   ]
  },
  {
   "cell_type": "code",
   "execution_count": null,
   "metadata": {},
   "outputs": [],
   "source": [
    "def create_multi_hot_embedding(input_list, max_value = 99):\n",
    "    # Initialize an array of zeros with length max_value + 1\n",
    "    multi_hot_embedding = np.zeros(max_value + 1, dtype=int)\n",
    "    \n",
    "    #subtract out 1 to index from 0 (hydrogen)\n",
    "    input_list = [value - 1 for value in input_list]\n",
    "\n",
    "    # Set the corresponding index for each number in the input list to 1\n",
    "    for num in input_list:\n",
    "        multi_hot_embedding[num] += 1\n",
    "    \n",
    "    return multi_hot_embedding"
   ]
  },
  {
   "cell_type": "code",
   "execution_count": null,
   "metadata": {},
   "outputs": [],
   "source": [
    "def create_2D_embedding(input_list, max_value = 99):\n",
    "    # Initialize an array of zeros with length max_value + 1\n",
    "    multi_hot_embedding = np.zeros((21, max_value + 1), dtype=int)\n",
    "    \n",
    "    #subtract out 1 to index from 0 (hydrogen)\n",
    "    input_list = [value - 1 for value in input_list]\n",
    "    count_dict = Counter(input_list)\n",
    "\n",
    "    # Set the corresponding index for each number in the input list to 1\n",
    "    for key, value in count_dict.items():\n",
    "        multi_hot_embedding[value, key] = 1\n",
    "    \n",
    "    return multi_hot_embedding"
   ]
  },
  {
   "cell_type": "code",
   "execution_count": null,
   "metadata": {},
   "outputs": [],
   "source": [
    "train_df['composition_multihot'] = train_df['atomic_numbers'].apply(create_multi_hot_embedding)\n",
    "val_df['composition_multihot'] = val_df['atomic_numbers'].apply(create_multi_hot_embedding)\n",
    "\n",
    "train_df['composition_2D'] = train_df['atomic_numbers'].apply(create_2D_embedding)\n",
    "val_df['composition_2D'] = val_df['atomic_numbers'].apply(create_2D_embedding)\n"
   ]
  },
  {
   "cell_type": "code",
   "execution_count": null,
   "metadata": {},
   "outputs": [],
   "source": [
    "train_composition = torch.tensor(train_df['composition_multihot'])\n",
    "val_composition = torch.tensor(val_df['composition_multihot'])\n",
    "\n",
    "train_composition = train_composition.unsqueeze(1)\n",
    "val_composition = val_composition.unsqueeze(1)"
   ]
  },
  {
   "cell_type": "code",
   "execution_count": null,
   "metadata": {},
   "outputs": [],
   "source": [
    "train_composition2D = torch.tensor(train_df['composition_2D'])\n",
    "val_composition2D = torch.tensor(val_df['composition_2D'])\n",
    "\n",
    "train_composition2D = train_composition2D.unsqueeze(1)\n",
    "val_composition2D = val_composition2D.unsqueeze(1)"
   ]
  },
  {
   "cell_type": "code",
   "execution_count": null,
   "metadata": {},
   "outputs": [],
   "source": [
    "# Create a random tensor with the shape [21, 100]\n",
    "tensor = train_composition2D[4][0]\n",
    "\n",
    "# Use matplotlib to create a heatmap\n",
    "plt.figure(figsize=(10, 5))\n",
    "plt.imshow(tensor, aspect='auto')\n",
    "plt.colorbar()\n",
    "plt.title('Heatmap of Tensor')\n",
    "plt.xlabel('Column Index')\n",
    "plt.ylabel('Row Index')\n",
    "plt.show()"
   ]
  },
  {
   "cell_type": "code",
   "execution_count": null,
   "metadata": {},
   "outputs": [],
   "source": [
    "train_composition = train_composition.float()\n",
    "val_composition = val_composition.float()\n",
    "\n",
    "train_composition2D = train_composition2D.float()\n",
    "val_composition2D = val_composition2D.float()"
   ]
  },
  {
   "cell_type": "code",
   "execution_count": null,
   "metadata": {},
   "outputs": [],
   "source": [
    "torch.save(training_pvs, \"data/train_pvs.pt\")\n",
    "torch.save(val_pvs, \"data/val_pvs.pt\")\n",
    "torch.save(training_sgs, \"data/train_sgs.pt\")\n",
    "torch.save(val_sgs, \"data/val_sgs.pt\")\n",
    "torch.save(train_composition, \"data/train_composition.pt\")\n",
    "torch.save(val_composition, \"data/val_composition.pt\")\n",
    "\n",
    "torch.save(train_composition2D, \"data/train_composition2D.pt\")\n",
    "torch.save(val_composition2D, \"data/val_composition2D.pt\")"
   ]
  },
  {
   "cell_type": "code",
   "execution_count": null,
   "metadata": {},
   "outputs": [],
   "source": []
  }
 ],
 "metadata": {
  "kernelspec": {
   "display_name": "cpsc552v2",
   "language": "python",
   "name": "cpsc552v2"
  },
  "language_info": {
   "codemirror_mode": {
    "name": "ipython",
    "version": 3
   },
   "file_extension": ".py",
   "mimetype": "text/x-python",
   "name": "python",
   "nbconvert_exporter": "python",
   "pygments_lexer": "ipython3",
   "version": "3.11.8"
  }
 },
 "nbformat": 4,
 "nbformat_minor": 4
}
