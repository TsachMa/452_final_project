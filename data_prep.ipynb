{
 "cells": [
  {
   "cell_type": "code",
   "execution_count": 14,
   "metadata": {},
   "outputs": [],
   "source": [
    "import pandas as pd \n",
    "import numpy as np \n",
    "import torch \n",
    "import ast\n",
    "import matplotlib.pyplot as plt\n",
    "\n",
    "train_dict = torch.load(\"data/train_pv_xrd.pt\")\n",
    "val_dict = torch.load(\"data/val_pv_xrd.pt\")\n",
    "test_dict = torch.load(\"data/test_pv_xrd.pt\")\n",
    "\n",
    "train_df = pd.read_csv(\"data/train.csv\")\n",
    "val_df = pd.read_csv(\"data/val.csv\")\n",
    "test_df = pd.read_csv(\"data/test.csv\")\n",
    "\n",
    "train_df['atomic_numbers'] = train_df['atomic_numbers'].apply(ast.literal_eval)\n",
    "val_df['atomic_numbers'] = val_df['atomic_numbers'].apply(ast.literal_eval)\n",
    "test_df['atomic_numbers'] = test_df['atomic_numbers'].apply(ast.literal_eval)\n"
   ]
  },
  {
   "cell_type": "code",
   "execution_count": 15,
   "metadata": {},
   "outputs": [],
   "source": [
    "MAX_ATOM = 80\n",
    "def filter_df(df):\n",
    "    \"\"\"remove any compounds with elements with atomic numbers equal to or greater than max atom \"\"\"\n",
    "        \n",
    "    atomic_num_list = [np.array(sublist) for sublist in list(df['atomic_numbers'])]\n",
    "    indices_to_exclude = [i for i, val in enumerate(atomic_num_list) if np.any(val > MAX_ATOM-1)]\n",
    "    df = df.drop(indices_to_exclude)\n",
    "    return df \n",
    "\n",
    "def convert_to_tensor(pseudo_voight_dict, df): \n",
    "    list_of_pseudo_voights = []\n",
    "    for key in df['material_id']:\n",
    "        #key += \"_0\"\n",
    "        value = pseudo_voight_dict[key]\n",
    "        list_of_pseudo_voights.append(value)\n",
    "\n",
    "    tensor_of_pseudo_voights = torch.tensor(torch.stack(list_of_pseudo_voights))\n",
    "    return(tensor_of_pseudo_voights)\n",
    "\n",
    "def create_padded_seqs(filtered_df): \n",
    "    atomic_num_list = [np.array(sublist) for sublist in list(filtered_df['atomic_numbers'])]\n",
    "    all_atom_types = [np.concatenate([vec, np.zeros(25 - len(vec))]) for vec in atomic_num_list]\n",
    "    all_atom_types = torch.tensor(np.stack(all_atom_types)).long()\n",
    "    training_data_onehot = torch.nn.functional.one_hot(all_atom_types, num_classes=MAX_ATOM).float()\n",
    "\n",
    "    return training_data_onehot"
   ]
  },
  {
   "cell_type": "code",
   "execution_count": 16,
   "metadata": {},
   "outputs": [
    {
     "name": "stderr",
     "output_type": "stream",
     "text": [
      "/tmp/ipykernel_3289924/217817870.py:23: UserWarning: To copy construct from a tensor, it is recommended to use sourceTensor.clone().detach() or sourceTensor.clone().detach().requires_grad_(True), rather than torch.tensor(sourceTensor).\n",
      "  tensor_of_pseudo_voights = torch.tensor(torch.stack(list_of_pseudo_voights))\n"
     ]
    }
   ],
   "source": [
    "train_df = filter_df(train_df)\n",
    "val_df = filter_df(val_df)\n",
    "test_df = filter_df(test_df)\n",
    "\n",
    "data_dict = {\n",
    "    'train': (train_dict, train_df),\n",
    "    'val': (val_dict, val_df), \n",
    "    'test': (test_dict, test_df)\n",
    "}\n",
    "\n",
    "training_sgs = torch.tensor(train_df['spacegroup.number'].values, dtype=torch.long)\n",
    "val_sgs = torch.tensor(val_df['spacegroup.number'].values, dtype=torch.long)\n",
    "test_sgs = torch.tensor(test_df['spacegroup.number'].values, dtype=torch.long)\n",
    "\n",
    "training_pvs = convert_to_tensor(train_dict, train_df)\n",
    "val_pvs = convert_to_tensor(val_dict, val_df)\n",
    "test_pvs = convert_to_tensor(test_dict, test_df)\n",
    "\n",
    "training_comps = create_padded_seqs(train_df)\n",
    "val_comps = create_padded_seqs(val_df)\n",
    "test_comps = create_padded_seqs(test_df)"
   ]
  },
  {
   "cell_type": "code",
   "execution_count": 17,
   "metadata": {},
   "outputs": [],
   "source": [
    "torch.save(training_comps, \"data/train_compositionseq.pt\")\n",
    "torch.save(val_comps, \"data/val_compositionseq.pt\")\n",
    "torch.save(test_comps, \"data/test_compositionseq.pt\")\n",
    "torch.save(training_pvs, \"data/train_pvs.pt\")\n",
    "torch.save(val_pvs, \"data/val_pvs.pt\")\n",
    "torch.save(test_pvs, \"data/test_pvs.pt\")\n",
    "torch.save(training_sgs, \"data/train_sgs.pt\")\n",
    "torch.save(val_sgs, \"data/val_sgs.pt\")\n",
    "torch.save(test_sgs, \"data/test_sgs.pt\")"
   ]
  }
 ],
 "metadata": {
  "kernelspec": {
   "display_name": "cdvae",
   "language": "python",
   "name": "python3"
  },
  "language_info": {
   "codemirror_mode": {
    "name": "ipython",
    "version": 3
   },
   "file_extension": ".py",
   "mimetype": "text/x-python",
   "name": "python",
   "nbconvert_exporter": "python",
   "pygments_lexer": "ipython3",
   "version": "3.8.17"
  }
 },
 "nbformat": 4,
 "nbformat_minor": 4
}
